{
  "cells": [
    {
      "cell_type": "markdown",
      "metadata": {
        "id": "Fc30wsNsNBZI"
      },
      "source": [
        "# 데이터프레임의 정의 및 행과 열선택"
      ]
    },
    {
      "cell_type": "markdown",
      "metadata": {
        "id": "3lVYjvy0fX64"
      },
      "source": [
        "실제 데이터를 다루기 전에 데이터프레임은 무엇인지 짚고 넘어갈 필요가 있습니다."
      ]
    },
    {
      "cell_type": "code",
      "execution_count": 1,
      "metadata": {
        "id": "ylrtQRv32qap"
      },
      "outputs": [],
      "source": [
        "import pandas as pd"
      ]
    },
    {
      "cell_type": "markdown",
      "metadata": {
        "id": "yfSME8jD0vuB"
      },
      "source": [
        "## 정의"
      ]
    },
    {
      "cell_type": "markdown",
      "metadata": {
        "id": "TclbAxdgK7z3"
      },
      "source": [
        "이제 데이터프레임을 정의해 보자. 다음은 5명의 이름, 성별, 나이, 키가 저장된 데이터프레임을 직접 만드는 코드이다.  "
      ]
    },
    {
      "cell_type": "code",
      "execution_count": 2,
      "metadata": {
        "colab": {
          "base_uri": "https://localhost:8080/",
          "height": 0
        },
        "id": "9_bBF_a5Kqu7",
        "outputId": "693d2597-c744-40fa-ecf9-d4e08acd429c"
      },
      "outputs": [
        {
          "data": {
            "text/html": [
              "<div>\n",
              "<style scoped>\n",
              "    .dataframe tbody tr th:only-of-type {\n",
              "        vertical-align: middle;\n",
              "    }\n",
              "\n",
              "    .dataframe tbody tr th {\n",
              "        vertical-align: top;\n",
              "    }\n",
              "\n",
              "    .dataframe thead th {\n",
              "        text-align: right;\n",
              "    }\n",
              "</style>\n",
              "<table border=\"1\" class=\"dataframe\">\n",
              "  <thead>\n",
              "    <tr style=\"text-align: right;\">\n",
              "      <th></th>\n",
              "      <th>name</th>\n",
              "      <th>gender</th>\n",
              "      <th>age</th>\n",
              "      <th>height</th>\n",
              "    </tr>\n",
              "  </thead>\n",
              "  <tbody>\n",
              "    <tr>\n",
              "      <th>0</th>\n",
              "      <td>이철수</td>\n",
              "      <td>M</td>\n",
              "      <td>23</td>\n",
              "      <td>153.5</td>\n",
              "    </tr>\n",
              "    <tr>\n",
              "      <th>1</th>\n",
              "      <td>김영희</td>\n",
              "      <td>F</td>\n",
              "      <td>25</td>\n",
              "      <td>175.3</td>\n",
              "    </tr>\n",
              "    <tr>\n",
              "      <th>2</th>\n",
              "      <td>홍길동</td>\n",
              "      <td>M</td>\n",
              "      <td>21</td>\n",
              "      <td>163.4</td>\n",
              "    </tr>\n",
              "    <tr>\n",
              "      <th>3</th>\n",
              "      <td>John Smith</td>\n",
              "      <td>M</td>\n",
              "      <td>33</td>\n",
              "      <td>180.0</td>\n",
              "    </tr>\n",
              "    <tr>\n",
              "      <th>4</th>\n",
              "      <td>Mary Doe</td>\n",
              "      <td>F</td>\n",
              "      <td>45</td>\n",
              "      <td>165.7</td>\n",
              "    </tr>\n",
              "  </tbody>\n",
              "</table>\n",
              "</div>"
            ],
            "text/plain": [
              "         name gender  age  height\n",
              "0         이철수      M   23   153.5\n",
              "1         김영희      F   25   175.3\n",
              "2         홍길동      M   21   163.4\n",
              "3  John Smith      M   33   180.0\n",
              "4    Mary Doe      F   45   165.7"
            ]
          },
          "execution_count": 2,
          "metadata": {},
          "output_type": "execute_result"
        }
      ],
      "source": [
        "df = pd.DataFrame(\n",
        "    { 'name' : ['이철수', '김영희', '홍길동', 'John Smith', 'Mary Doe'],\n",
        "      'gender'  : ['M', 'F', 'M', 'M', 'F'],\n",
        "      'age'  : [ 23, 25, 21, 33, 45],\n",
        "      'height' : [153.5, 175.3, 163.4, 180.0, 165.7]\n",
        "    } )\n",
        "\n",
        "df"
      ]
    },
    {
      "cell_type": "code",
      "execution_count": 3,
      "metadata": {
        "colab": {
          "base_uri": "https://localhost:8080/"
        },
        "id": "t7TMVvhOgbLs",
        "outputId": "044e04df-3712-49a9-fec4-2fe816a94cb6"
      },
      "outputs": [
        {
          "data": {
            "text/plain": [
              "pandas.core.frame.DataFrame"
            ]
          },
          "execution_count": 3,
          "metadata": {},
          "output_type": "execute_result"
        }
      ],
      "source": [
        "type(df)"
      ]
    },
    {
      "cell_type": "markdown",
      "metadata": {
        "id": "Pb5M9GywRA_5"
      },
      "source": [
        "> 각 행을 나타내는 인덱스는 0으로 시작하는 정수 0,1,2,3,4 로 나타나고 각 열을 나타내는 인덱스(열이름)는\n",
        "문자열로 나타나며 `name`,\t`gender`,\t`age`,\t`height` 로 나타난다."
      ]
    },
    {
      "cell_type": "markdown",
      "metadata": {
        "id": "Jec6EJMNNdBh"
      },
      "source": [
        "위의 코드는 5명의 학생의 이름(name), 성별(gender), 나이(age), 키(height)로 구성된 5개의 행과 4개 열을 가진 데이터프레임 `df` 이다. `pd.DataFrame()` 는 `pd` 로 지정된 `pandas` 라이브러리의 함수 `DataFrame()` 을 사용하겠다는 의미이다. 라이브러리의 함수 `DataFrame`의 괄호 안에 인자는 괄호 `{` 로 시작하여 괄호 `}` 로 끝나는 표현식이 들어 간다.\n",
        "\n",
        "괄호 `{}` 안에 있는 표현식은 사전(dictionary) 형식의 데이터를 만들어 준다.\n",
        "\n",
        "- 괄호 `{}` 안에 있는 첫 번째 요소는 이름을 나타내는 열을 만드는 표현식이며 열이름은 `name` 이고 원소들은 문자열(`str`)로 구성된 리스트이다.\n",
        "\n",
        "```\n",
        "'name' : ['이철수', '김영희', '홍길동', 'John Smith', 'Mary Doe']\n",
        "```\n",
        "\n",
        "-  괄호 `{}` 안에 있는 두 번째 요소는 성별을 나타내는 열을 만드는 표현식이며 열이름은 `gender` 이고 원소들은 문자열 `M` 과 `F` 로 구성된 리스트이다.\n",
        "\n",
        "```\n",
        "'gender'  : ['M', 'F', 'M', 'M', 'F']\n",
        "```\n",
        "\n",
        "- 괄호 `{}` 안에 있는 세 번째 요소는 나이을 나타내는 열을 만드는 표현식이며 열이름은 `age` 이고 원소들은 정수(`int`)로 구성된 리스트이다.\n",
        "\n",
        "```\n",
        "'age'  : [ 23, 25, 21, 33, 45]\n",
        "```\n",
        "\n",
        "- 괄호 `{}` 안에 있는 네 번째 요소는 키를 나타내는 열을 만드는 표현식이며 열이름은 `height` 이고 원소들은 부동소수점(`float`)로 구성된 리스트이다.\n",
        "\n",
        "```\n",
        "'height' : [153.5, 175.3, 163.4, 180.0, 165.7]\n",
        "```\n",
        "\n",
        "각 열을 나타내는 4개의 요소는 쉼표 `,` 로 분리한다.\n"
      ]
    },
    {
      "cell_type": "markdown",
      "metadata": {
        "id": "DAi24beGfdJv"
      },
      "source": [
        "## 열(column) 선택"
      ]
    },
    {
      "cell_type": "markdown",
      "metadata": {
        "id": "IcrDvLZoO8pZ"
      },
      "source": [
        "데이터프레임에서 다음과 같이 괄호 `[]` 안에 열이름 또는 열이름으로 구성된 리스트를 넣어서 일부의 열을 선택할 수 있다. 이 경우 열이름은 문자열이어야 한다.\n",
        "\n",
        "데이터프레임에서 열 또는 행의 일부를 선택하여 추출하는 작업을 **슬라이싱(slicing)** 이라고 한다.\n",
        "\n"
      ]
    },
    {
      "cell_type": "code",
      "execution_count": 4,
      "metadata": {
        "colab": {
          "base_uri": "https://localhost:8080/"
        },
        "id": "-pK-jjn3NUEr",
        "outputId": "fe7caf3d-5e21-486e-a587-7a6437035e78"
      },
      "outputs": [
        {
          "data": {
            "text/plain": [
              "0           이철수\n",
              "1           김영희\n",
              "2           홍길동\n",
              "3    John Smith\n",
              "4      Mary Doe\n",
              "Name: name, dtype: object"
            ]
          },
          "execution_count": 4,
          "metadata": {},
          "output_type": "execute_result"
        }
      ],
      "source": [
        "df['name']"
      ]
    },
    {
      "cell_type": "code",
      "execution_count": 5,
      "metadata": {
        "colab": {
          "base_uri": "https://localhost:8080/",
          "height": 206
        },
        "id": "6iPSIFL3OgSR",
        "outputId": "321df1cf-ac98-490b-abe2-6ef53cdfad29"
      },
      "outputs": [
        {
          "data": {
            "text/html": [
              "<div>\n",
              "<style scoped>\n",
              "    .dataframe tbody tr th:only-of-type {\n",
              "        vertical-align: middle;\n",
              "    }\n",
              "\n",
              "    .dataframe tbody tr th {\n",
              "        vertical-align: top;\n",
              "    }\n",
              "\n",
              "    .dataframe thead th {\n",
              "        text-align: right;\n",
              "    }\n",
              "</style>\n",
              "<table border=\"1\" class=\"dataframe\">\n",
              "  <thead>\n",
              "    <tr style=\"text-align: right;\">\n",
              "      <th></th>\n",
              "      <th>age</th>\n",
              "      <th>height</th>\n",
              "    </tr>\n",
              "  </thead>\n",
              "  <tbody>\n",
              "    <tr>\n",
              "      <th>0</th>\n",
              "      <td>23</td>\n",
              "      <td>153.5</td>\n",
              "    </tr>\n",
              "    <tr>\n",
              "      <th>1</th>\n",
              "      <td>25</td>\n",
              "      <td>175.3</td>\n",
              "    </tr>\n",
              "    <tr>\n",
              "      <th>2</th>\n",
              "      <td>21</td>\n",
              "      <td>163.4</td>\n",
              "    </tr>\n",
              "    <tr>\n",
              "      <th>3</th>\n",
              "      <td>33</td>\n",
              "      <td>180.0</td>\n",
              "    </tr>\n",
              "    <tr>\n",
              "      <th>4</th>\n",
              "      <td>45</td>\n",
              "      <td>165.7</td>\n",
              "    </tr>\n",
              "  </tbody>\n",
              "</table>\n",
              "</div>"
            ],
            "text/plain": [
              "   age  height\n",
              "0   23   153.5\n",
              "1   25   175.3\n",
              "2   21   163.4\n",
              "3   33   180.0\n",
              "4   45   165.7"
            ]
          },
          "execution_count": 5,
          "metadata": {},
          "output_type": "execute_result"
        }
      ],
      "source": [
        "df[['age', 'height']]"
      ]
    },
    {
      "cell_type": "markdown",
      "metadata": {
        "id": "X8wOYUH6SWta"
      },
      "source": [
        "하나의 열만 슬라이싱하는 경우는 데이터프레임 이름 뒤에 마침표를 붙이고 열이름을 붙이면 된다."
      ]
    },
    {
      "cell_type": "code",
      "execution_count": 6,
      "metadata": {
        "colab": {
          "base_uri": "https://localhost:8080/"
        },
        "id": "u3yWecAXSWOf",
        "outputId": "7a5360e2-8c9a-48a2-b3f9-783aaa2a7c9b"
      },
      "outputs": [
        {
          "data": {
            "text/plain": [
              "0    23\n",
              "1    25\n",
              "2    21\n",
              "3    33\n",
              "4    45\n",
              "Name: age, dtype: int64"
            ]
          },
          "execution_count": 6,
          "metadata": {},
          "output_type": "execute_result"
        }
      ],
      "source": [
        "df.age"
      ]
    },
    {
      "cell_type": "markdown",
      "metadata": {
        "id": "3y2mvOuCfhAK"
      },
      "source": [
        "## 행(row) 선택"
      ]
    },
    {
      "cell_type": "markdown",
      "metadata": {
        "id": "XLVAHvk4TQW0"
      },
      "source": [
        "이제 특정한 성질을 가진 행, 즉 자료의 구성 단위의 일부만을 선택해 보자. 데이터프레임 뒤 괄호 `[]` 안에 비교연산자를 이용한 조건 표현식을 넣어주면 조건이 만족하는 행만 추출된다.\n",
        "\n"
      ]
    },
    {
      "cell_type": "markdown",
      "metadata": {
        "id": "q-_-0jp6KNf-"
      },
      "source": [
        "성별이 남자인 사람만 추출해보자.\n",
        "\n",
        "데이터프레임에 5명의 사람의 정보가 행으로 들어가 있으니 각 사람마다 남자인지 아닌지 판단을 해야 하는 조건 표현식이 필요합니다.\n",
        "\n",
        "위에서 언급한 조건 표현식은 `df['gender'] == 'M'` 로서 `df['gender']` 의 자료를 각각 문자열 `M` 과 비교하여 참이면 `True`, 거짓이면 `False` 로 결과를 생성한다.\n",
        "\n"
      ]
    },
    {
      "cell_type": "code",
      "execution_count": 7,
      "metadata": {
        "colab": {
          "base_uri": "https://localhost:8080/"
        },
        "id": "KPx4XlKPKY85",
        "outputId": "99baca87-9081-4be2-818b-a196cde9aa21"
      },
      "outputs": [
        {
          "data": {
            "text/plain": [
              "0     True\n",
              "1    False\n",
              "2     True\n",
              "3     True\n",
              "4    False\n",
              "Name: gender, dtype: bool"
            ]
          },
          "execution_count": 7,
          "metadata": {},
          "output_type": "execute_result"
        }
      ],
      "source": [
        "df['gender'] == 'M'"
      ]
    },
    {
      "cell_type": "markdown",
      "metadata": {
        "id": "KK5N3jaS6hfD"
      },
      "source": [
        "여기서 `True`가 0,2,3 번째에서 3명 `False`가 1,4 번째에서 2명이 반환된다.\n",
        "\n",
        "비교연산자는 `True`값이 반환된 행만 추출해준다. 이것을 행 슬라이싱이라 한다."
      ]
    },
    {
      "cell_type": "code",
      "execution_count": 8,
      "metadata": {
        "colab": {
          "base_uri": "https://localhost:8080/",
          "height": 142
        },
        "id": "y7cDjwtgSU2p",
        "outputId": "2435a2fc-3466-4702-a375-5a5b56ee1d45"
      },
      "outputs": [
        {
          "data": {
            "text/html": [
              "<div>\n",
              "<style scoped>\n",
              "    .dataframe tbody tr th:only-of-type {\n",
              "        vertical-align: middle;\n",
              "    }\n",
              "\n",
              "    .dataframe tbody tr th {\n",
              "        vertical-align: top;\n",
              "    }\n",
              "\n",
              "    .dataframe thead th {\n",
              "        text-align: right;\n",
              "    }\n",
              "</style>\n",
              "<table border=\"1\" class=\"dataframe\">\n",
              "  <thead>\n",
              "    <tr style=\"text-align: right;\">\n",
              "      <th></th>\n",
              "      <th>name</th>\n",
              "      <th>gender</th>\n",
              "      <th>age</th>\n",
              "      <th>height</th>\n",
              "    </tr>\n",
              "  </thead>\n",
              "  <tbody>\n",
              "    <tr>\n",
              "      <th>0</th>\n",
              "      <td>이철수</td>\n",
              "      <td>M</td>\n",
              "      <td>23</td>\n",
              "      <td>153.5</td>\n",
              "    </tr>\n",
              "    <tr>\n",
              "      <th>2</th>\n",
              "      <td>홍길동</td>\n",
              "      <td>M</td>\n",
              "      <td>21</td>\n",
              "      <td>163.4</td>\n",
              "    </tr>\n",
              "    <tr>\n",
              "      <th>3</th>\n",
              "      <td>John Smith</td>\n",
              "      <td>M</td>\n",
              "      <td>33</td>\n",
              "      <td>180.0</td>\n",
              "    </tr>\n",
              "  </tbody>\n",
              "</table>\n",
              "</div>"
            ],
            "text/plain": [
              "         name gender  age  height\n",
              "0         이철수      M   23   153.5\n",
              "2         홍길동      M   21   163.4\n",
              "3  John Smith      M   33   180.0"
            ]
          },
          "execution_count": 8,
          "metadata": {},
          "output_type": "execute_result"
        }
      ],
      "source": [
        "df[ df['gender'] == 'M' ]"
      ]
    },
    {
      "cell_type": "markdown",
      "metadata": {
        "id": "swy2Vv2feVuk"
      },
      "source": [
        "자료에서 선택해야할 경우의 수가 많은 경우 다음과 같은 `.isin()` 메소드를 사용할 수 있다. `.isin` 함수의 괄호 안에 선택할 문자 또는 숫자를 리스트 형태로 넣어준다.\n",
        "\n",
        "예를 들어 나이가 25세와 33세인 사람만 슬라이싱 해보자."
      ]
    },
    {
      "cell_type": "markdown",
      "metadata": {
        "id": "-BZIpU9ENHWs"
      },
      "source": [
        "우선 조건문을 보자\n",
        "\n",
        "각 행마다 `age`가 25 또는 33 인지 확인하고 둘 중 하나가 맞디면 `True`, 그렇지 않으면 `False`를 반환한다."
      ]
    },
    {
      "cell_type": "code",
      "execution_count": 9,
      "metadata": {
        "colab": {
          "base_uri": "https://localhost:8080/"
        },
        "id": "h6Kub41uNKJS",
        "outputId": "3bcccb55-f82a-4d49-ef69-7f37b8f63334"
      },
      "outputs": [
        {
          "data": {
            "text/plain": [
              "0    False\n",
              "1     True\n",
              "2    False\n",
              "3     True\n",
              "4    False\n",
              "Name: age, dtype: bool"
            ]
          },
          "execution_count": 9,
          "metadata": {},
          "output_type": "execute_result"
        }
      ],
      "source": [
        "df['age'].isin([25,33])"
      ]
    },
    {
      "cell_type": "markdown",
      "metadata": {
        "id": "pal145rRNMCT"
      },
      "source": [
        "이렇게 반환된 `True`,`False`중 `True`의 행만 추출해주는 것을 볼 수 있다.\n",
        "\n"
      ]
    },
    {
      "cell_type": "code",
      "execution_count": 10,
      "metadata": {
        "colab": {
          "base_uri": "https://localhost:8080/",
          "height": 110
        },
        "id": "cngS144AeWSv",
        "outputId": "1f6f29bf-1af7-485f-a84d-fce6ee38575d"
      },
      "outputs": [
        {
          "data": {
            "text/html": [
              "<div>\n",
              "<style scoped>\n",
              "    .dataframe tbody tr th:only-of-type {\n",
              "        vertical-align: middle;\n",
              "    }\n",
              "\n",
              "    .dataframe tbody tr th {\n",
              "        vertical-align: top;\n",
              "    }\n",
              "\n",
              "    .dataframe thead th {\n",
              "        text-align: right;\n",
              "    }\n",
              "</style>\n",
              "<table border=\"1\" class=\"dataframe\">\n",
              "  <thead>\n",
              "    <tr style=\"text-align: right;\">\n",
              "      <th></th>\n",
              "      <th>name</th>\n",
              "      <th>gender</th>\n",
              "      <th>age</th>\n",
              "      <th>height</th>\n",
              "    </tr>\n",
              "  </thead>\n",
              "  <tbody>\n",
              "    <tr>\n",
              "      <th>1</th>\n",
              "      <td>김영희</td>\n",
              "      <td>F</td>\n",
              "      <td>25</td>\n",
              "      <td>175.3</td>\n",
              "    </tr>\n",
              "    <tr>\n",
              "      <th>3</th>\n",
              "      <td>John Smith</td>\n",
              "      <td>M</td>\n",
              "      <td>33</td>\n",
              "      <td>180.0</td>\n",
              "    </tr>\n",
              "  </tbody>\n",
              "</table>\n",
              "</div>"
            ],
            "text/plain": [
              "         name gender  age  height\n",
              "1         김영희      F   25   175.3\n",
              "3  John Smith      M   33   180.0"
            ]
          },
          "execution_count": 10,
          "metadata": {},
          "output_type": "execute_result"
        }
      ],
      "source": [
        "df[ df['age'].isin([25,33]) ]"
      ]
    },
    {
      "cell_type": "markdown",
      "metadata": {
        "id": "etKpxTzKUvU2"
      },
      "source": [
        "이번에는 조건문을 2개 썼을 경우이다.\n",
        "\n",
        "만약 키가 160 이상인 남자 구성원만 슬라이싱 하려면 다음과 같은 명령어를 사용한다.\n",
        "\n",
        "어떻게 이런 결과값이 나오는 지 확인해본다.\n"
      ]
    },
    {
      "cell_type": "code",
      "execution_count": 11,
      "metadata": {
        "colab": {
          "base_uri": "https://localhost:8080/"
        },
        "id": "cGkCL53aOgkB",
        "outputId": "5fa40c43-850e-4802-8b52-b7495e869c23"
      },
      "outputs": [
        {
          "data": {
            "text/plain": [
              "0    False\n",
              "1    False\n",
              "2     True\n",
              "3     True\n",
              "4    False\n",
              "dtype: bool"
            ]
          },
          "execution_count": 11,
          "metadata": {},
          "output_type": "execute_result"
        }
      ],
      "source": [
        "(df['gender'] == 'M') & (df['height'] >= 160.0)"
      ]
    },
    {
      "cell_type": "markdown",
      "metadata": {
        "id": "SeF7IaKVOTIh"
      },
      "source": [
        "우선 성별이 남자인 조건문의 반환값이다."
      ]
    },
    {
      "cell_type": "code",
      "execution_count": 12,
      "metadata": {
        "colab": {
          "base_uri": "https://localhost:8080/"
        },
        "id": "9Jw8A08NOBot",
        "outputId": "3727b705-a4c0-44c9-8b81-b492df021d8b"
      },
      "outputs": [
        {
          "data": {
            "text/plain": [
              "0     True\n",
              "1    False\n",
              "2     True\n",
              "3     True\n",
              "4    False\n",
              "Name: gender, dtype: bool"
            ]
          },
          "execution_count": 12,
          "metadata": {},
          "output_type": "execute_result"
        }
      ],
      "source": [
        "df['gender'] == 'M'"
      ]
    },
    {
      "cell_type": "markdown",
      "metadata": {
        "id": "rCVyPeOxOuHA"
      },
      "source": [
        "다음은 키가 160이상인 조건문의 반환값이다."
      ]
    },
    {
      "cell_type": "code",
      "execution_count": 13,
      "metadata": {
        "colab": {
          "base_uri": "https://localhost:8080/"
        },
        "id": "iOsVpNY4ONe4",
        "outputId": "3ab9a27c-4be4-4ea8-b69b-6217da08dc0f"
      },
      "outputs": [
        {
          "data": {
            "text/plain": [
              "0    False\n",
              "1     True\n",
              "2     True\n",
              "3     True\n",
              "4     True\n",
              "Name: height, dtype: bool"
            ]
          },
          "execution_count": 13,
          "metadata": {},
          "output_type": "execute_result"
        }
      ],
      "source": [
        "df['height'] >= 160.0"
      ]
    },
    {
      "cell_type": "markdown",
      "metadata": {
        "id": "0x7uykkoO2Lw"
      },
      "source": [
        "조건문이 2개 이고 여기선 `&`를 썼으므로 둘다 만족했을 때 `True`를 반환해준다.\n",
        "\n",
        "*   `True` `&` `True` 이면 `True`를 반환\n",
        "*   `Ture` `&` `False` 이면 `False`를 반환\n",
        "*   `False` `&` `False` 이면 `False`를 반환\n",
        "\n",
        "그러므로 둘 다 `True`를 만족하는 행은 2,3 번째 행뿐이므로 2개의 행만 반환한다."
      ]
    },
    {
      "cell_type": "code",
      "execution_count": 14,
      "metadata": {
        "colab": {
          "base_uri": "https://localhost:8080/",
          "height": 110
        },
        "id": "xUVV09kWUMFl",
        "outputId": "e145b5c3-166a-45f7-b4f3-6a70e8be2ff2"
      },
      "outputs": [
        {
          "data": {
            "text/html": [
              "<div>\n",
              "<style scoped>\n",
              "    .dataframe tbody tr th:only-of-type {\n",
              "        vertical-align: middle;\n",
              "    }\n",
              "\n",
              "    .dataframe tbody tr th {\n",
              "        vertical-align: top;\n",
              "    }\n",
              "\n",
              "    .dataframe thead th {\n",
              "        text-align: right;\n",
              "    }\n",
              "</style>\n",
              "<table border=\"1\" class=\"dataframe\">\n",
              "  <thead>\n",
              "    <tr style=\"text-align: right;\">\n",
              "      <th></th>\n",
              "      <th>name</th>\n",
              "      <th>gender</th>\n",
              "      <th>age</th>\n",
              "      <th>height</th>\n",
              "    </tr>\n",
              "  </thead>\n",
              "  <tbody>\n",
              "    <tr>\n",
              "      <th>2</th>\n",
              "      <td>홍길동</td>\n",
              "      <td>M</td>\n",
              "      <td>21</td>\n",
              "      <td>163.4</td>\n",
              "    </tr>\n",
              "    <tr>\n",
              "      <th>3</th>\n",
              "      <td>John Smith</td>\n",
              "      <td>M</td>\n",
              "      <td>33</td>\n",
              "      <td>180.0</td>\n",
              "    </tr>\n",
              "  </tbody>\n",
              "</table>\n",
              "</div>"
            ],
            "text/plain": [
              "         name gender  age  height\n",
              "2         홍길동      M   21   163.4\n",
              "3  John Smith      M   33   180.0"
            ]
          },
          "execution_count": 14,
          "metadata": {},
          "output_type": "execute_result"
        }
      ],
      "source": [
        "df[ (df['gender'] == 'M') & (df['height'] >= 160.0) ]"
      ]
    },
    {
      "cell_type": "markdown",
      "metadata": {
        "id": "uOeVV8eWVSqO"
      },
      "source": [
        "이번에는 2개의 조건문 중에 하나 이상이 맞으면 슬라이싱하는 방법을 본다.\n",
        "\n",
        "만약 나이가 30세 이하 또는 키가 160 미만인 행만 슬라이싱 하려면 다음과 같은 명령어를 사용한다.\n",
        "\n",
        "이런 경우 `|` 즉 `or` 를 써서 둘 중 하나이상 맞으면 `True`를 반환하게 끔 해준다.\n",
        "\n",
        "*   `True` `|` `True` 이면 `True`를 반환\n",
        "*   `Ture` `|` `False` 이면 `True`를 반환\n",
        "*   `False` `|` `False` 이면 `False`를 반환"
      ]
    },
    {
      "cell_type": "markdown",
      "metadata": {
        "id": "H3HB4VfRQfXj"
      },
      "source": [
        "첫번 째 조건문에서 만족하는 행은 0,1,2"
      ]
    },
    {
      "cell_type": "code",
      "execution_count": 15,
      "metadata": {
        "colab": {
          "base_uri": "https://localhost:8080/"
        },
        "id": "RFBxUQdeQZjV",
        "outputId": "07d915e0-b67e-47e0-8a4b-d1f0603f9f32"
      },
      "outputs": [
        {
          "data": {
            "text/plain": [
              "0     True\n",
              "1     True\n",
              "2     True\n",
              "3    False\n",
              "4    False\n",
              "Name: age, dtype: bool"
            ]
          },
          "execution_count": 15,
          "metadata": {},
          "output_type": "execute_result"
        }
      ],
      "source": [
        "df['age'] <= 30"
      ]
    },
    {
      "cell_type": "markdown",
      "metadata": {
        "id": "GaTOhhfGQqoT"
      },
      "source": [
        "두번 째 조건문에서 만족하는 행은 0"
      ]
    },
    {
      "cell_type": "code",
      "execution_count": 16,
      "metadata": {
        "colab": {
          "base_uri": "https://localhost:8080/"
        },
        "id": "Cd9tGfLoQcWj",
        "outputId": "5d70af76-b918-432d-9cba-276df3066a04"
      },
      "outputs": [
        {
          "data": {
            "text/plain": [
              "0     True\n",
              "1    False\n",
              "2    False\n",
              "3    False\n",
              "4    False\n",
              "Name: height, dtype: bool"
            ]
          },
          "execution_count": 16,
          "metadata": {},
          "output_type": "execute_result"
        }
      ],
      "source": [
        "df['height'] < 160.0"
      ]
    },
    {
      "cell_type": "markdown",
      "metadata": {
        "id": "13atSA9pQuKC"
      },
      "source": [
        "두 조건문 중 한개라도 맞는 행은 0,1,2"
      ]
    },
    {
      "cell_type": "code",
      "execution_count": 17,
      "metadata": {
        "colab": {
          "base_uri": "https://localhost:8080/"
        },
        "id": "CgEa_s3oQ0UF",
        "outputId": "2de249e7-e949-461d-b850-b4cf290a79df"
      },
      "outputs": [
        {
          "data": {
            "text/plain": [
              "0     True\n",
              "1     True\n",
              "2     True\n",
              "3    False\n",
              "4    False\n",
              "dtype: bool"
            ]
          },
          "execution_count": 17,
          "metadata": {},
          "output_type": "execute_result"
        }
      ],
      "source": [
        "(df['age'] <= 30) | (df['height'] < 160.0)"
      ]
    },
    {
      "cell_type": "markdown",
      "metadata": {
        "id": "lYuynU21Q3EJ"
      },
      "source": [
        "최종 0,1,2 번째 행이 반환되는 걸 알 수 있다."
      ]
    },
    {
      "cell_type": "code",
      "execution_count": 18,
      "metadata": {
        "colab": {
          "base_uri": "https://localhost:8080/",
          "height": 142
        },
        "id": "Gl10fzVBVCVh",
        "outputId": "b4e7b980-2fc6-47fd-b62e-d2f18286ac54"
      },
      "outputs": [
        {
          "data": {
            "text/html": [
              "<div>\n",
              "<style scoped>\n",
              "    .dataframe tbody tr th:only-of-type {\n",
              "        vertical-align: middle;\n",
              "    }\n",
              "\n",
              "    .dataframe tbody tr th {\n",
              "        vertical-align: top;\n",
              "    }\n",
              "\n",
              "    .dataframe thead th {\n",
              "        text-align: right;\n",
              "    }\n",
              "</style>\n",
              "<table border=\"1\" class=\"dataframe\">\n",
              "  <thead>\n",
              "    <tr style=\"text-align: right;\">\n",
              "      <th></th>\n",
              "      <th>name</th>\n",
              "      <th>gender</th>\n",
              "      <th>age</th>\n",
              "      <th>height</th>\n",
              "    </tr>\n",
              "  </thead>\n",
              "  <tbody>\n",
              "    <tr>\n",
              "      <th>0</th>\n",
              "      <td>이철수</td>\n",
              "      <td>M</td>\n",
              "      <td>23</td>\n",
              "      <td>153.5</td>\n",
              "    </tr>\n",
              "    <tr>\n",
              "      <th>1</th>\n",
              "      <td>김영희</td>\n",
              "      <td>F</td>\n",
              "      <td>25</td>\n",
              "      <td>175.3</td>\n",
              "    </tr>\n",
              "    <tr>\n",
              "      <th>2</th>\n",
              "      <td>홍길동</td>\n",
              "      <td>M</td>\n",
              "      <td>21</td>\n",
              "      <td>163.4</td>\n",
              "    </tr>\n",
              "  </tbody>\n",
              "</table>\n",
              "</div>"
            ],
            "text/plain": [
              "  name gender  age  height\n",
              "0  이철수      M   23   153.5\n",
              "1  김영희      F   25   175.3\n",
              "2  홍길동      M   21   163.4"
            ]
          },
          "execution_count": 18,
          "metadata": {},
          "output_type": "execute_result"
        }
      ],
      "source": [
        "df[ (df['age'] <= 30) | (df['height'] < 160.0) ]"
      ]
    },
    {
      "cell_type": "markdown",
      "metadata": {
        "id": "1FSxejY6V3P9"
      },
      "source": [
        "데이터프레임에서 행을 조건에 따라서 슬라이싱 할 때 다음과 같은 규칙을 따른다.\n",
        "\n",
        "- 비교연산자 `<`, `<=`, `>`, `>=`, `!=`, `==` 을 사용한다.\n",
        "- 두 개 이상의 비교 표현식을 연결할 경우 **또는(OR)** 은 `|` 을 사용하고 **그리고(AND)** 는 `&` 를 사용한다.\n",
        "- 비교 표현식을 연결할 경우 표현식은 언제나 괄호 `()` 로 묶어준다.\n",
        "\n",
        "참고로 두 개 이상의 비교 표현식을 연결할 경우 사용하는 연산자 `|` 와 `&` 는 비트단위연산자(bit-wise operator) 라고 부른다. 데이터프레임에 조건식을 사용하여 슬라이싱 할 경우 논리연산자 `or` 와 `and` 는 사용할 수 없다."
      ]
    },
    {
      "cell_type": "markdown",
      "metadata": {
        "id": "hJDILVuIfn4f"
      },
      "source": [
        "## 행과 열 선택"
      ]
    },
    {
      "cell_type": "markdown",
      "metadata": {
        "id": "fAv4nDGtX1Sd"
      },
      "source": [
        "이제 특정한 열과 행을 동시에 슬라이싱 해보자.\n",
        "\n",
        "만약 키가 170 이상인 사람들의 이름이 필요하면 다음과 같이 슬라이싱할 수 있다. 괄호에서 첫 부분은 행에 대한 조건을 쓰고 컴마 `,` 로 분리한 후 열이름를 써준다.\n",
        "\n",
        "여기서 유의해할 점은 행과 열을 동시에 슬라이싱할 경우 테이터프레임 이름 뒤에 `.loc`를 붙여주어야 한다. 만약 붙여주지 않으면 오류가 발생한다."
      ]
    },
    {
      "cell_type": "code",
      "execution_count": 19,
      "metadata": {
        "colab": {
          "base_uri": "https://localhost:8080/"
        },
        "id": "7wBN3MNgV1ee",
        "outputId": "da8372ad-3908-40c2-fa79-cc72d69a5b70"
      },
      "outputs": [
        {
          "data": {
            "text/plain": [
              "1           김영희\n",
              "3    John Smith\n",
              "Name: name, dtype: object"
            ]
          },
          "execution_count": 19,
          "metadata": {},
          "output_type": "execute_result"
        }
      ],
      "source": [
        "df_1 = df.loc[ (df['height'] >= 170.0) , 'name']\n",
        "df_1"
      ]
    },
    {
      "cell_type": "code",
      "execution_count": 20,
      "metadata": {
        "colab": {
          "base_uri": "https://localhost:8080/",
          "height": 142
        },
        "id": "gWX1M0VQY4SV",
        "outputId": "a1df1a8f-ef1c-4883-9cda-1bf5bed5d98c"
      },
      "outputs": [
        {
          "data": {
            "text/html": [
              "<div>\n",
              "<style scoped>\n",
              "    .dataframe tbody tr th:only-of-type {\n",
              "        vertical-align: middle;\n",
              "    }\n",
              "\n",
              "    .dataframe tbody tr th {\n",
              "        vertical-align: top;\n",
              "    }\n",
              "\n",
              "    .dataframe thead th {\n",
              "        text-align: right;\n",
              "    }\n",
              "</style>\n",
              "<table border=\"1\" class=\"dataframe\">\n",
              "  <thead>\n",
              "    <tr style=\"text-align: right;\">\n",
              "      <th></th>\n",
              "      <th>name</th>\n",
              "      <th>height</th>\n",
              "    </tr>\n",
              "  </thead>\n",
              "  <tbody>\n",
              "    <tr>\n",
              "      <th>0</th>\n",
              "      <td>이철수</td>\n",
              "      <td>153.5</td>\n",
              "    </tr>\n",
              "    <tr>\n",
              "      <th>2</th>\n",
              "      <td>홍길동</td>\n",
              "      <td>163.4</td>\n",
              "    </tr>\n",
              "    <tr>\n",
              "      <th>3</th>\n",
              "      <td>John Smith</td>\n",
              "      <td>180.0</td>\n",
              "    </tr>\n",
              "  </tbody>\n",
              "</table>\n",
              "</div>"
            ],
            "text/plain": [
              "         name  height\n",
              "0         이철수   153.5\n",
              "2         홍길동   163.4\n",
              "3  John Smith   180.0"
            ]
          },
          "execution_count": 20,
          "metadata": {},
          "output_type": "execute_result"
        }
      ],
      "source": [
        "df.loc[ (df['gender'] == 'M') , ['name', 'height']]"
      ]
    },
    {
      "cell_type": "markdown",
      "metadata": {
        "id": "p4fjUNIZZqde"
      },
      "source": [
        "데이터프레임의 행과 열에 대한 인덱스를 숫자로 사용하여 슬라이싱하려면 데이터프레임 이름 뒤에 `iloc` 을 붙여주고 괄호 `[]` 안에 행과 열 순서의 위치를 써주면 된다. 이 경우 파이썬은 모든 위치는 0으로 시작하는데 유의하자.  \n",
        "\n",
        "하나의 위치가 아닌 여러개의 연속적인 위치는 `x:y` 형태이 범위 형식을 사용하여 지칭한다. 모든 열과 행을 지칭하는 경우 공란으로 넣거나 `:`을 사용한다."
      ]
    },
    {
      "cell_type": "code",
      "execution_count": 21,
      "metadata": {
        "colab": {
          "base_uri": "https://localhost:8080/",
          "height": 35
        },
        "id": "zBXWUl1vZjVU",
        "outputId": "da04acce-fe9e-487d-c8e1-164f08e35448"
      },
      "outputs": [
        {
          "data": {
            "text/plain": [
              "'이철수'"
            ]
          },
          "execution_count": 21,
          "metadata": {},
          "output_type": "execute_result"
        }
      ],
      "source": [
        "df.iloc[0,0]"
      ]
    },
    {
      "cell_type": "code",
      "execution_count": 22,
      "metadata": {
        "colab": {
          "base_uri": "https://localhost:8080/"
        },
        "id": "EbhKwF5BaVAq",
        "outputId": "de82cccf-4a43-47ad-9867-60b7b09ac210"
      },
      "outputs": [
        {
          "data": {
            "text/plain": [
              "165.7"
            ]
          },
          "execution_count": 22,
          "metadata": {},
          "output_type": "execute_result"
        }
      ],
      "source": [
        "df.iloc[4,3]"
      ]
    },
    {
      "cell_type": "code",
      "execution_count": 23,
      "metadata": {
        "colab": {
          "base_uri": "https://localhost:8080/"
        },
        "id": "WMmP613xbtS9",
        "outputId": "4bf9349d-650c-4be6-addf-0f1eccc40111"
      },
      "outputs": [
        {
          "data": {
            "text/plain": [
              "gender     M\n",
              "age       33\n",
              "Name: 3, dtype: object"
            ]
          },
          "execution_count": 23,
          "metadata": {},
          "output_type": "execute_result"
        }
      ],
      "source": [
        "df.iloc[3,1:3]"
      ]
    },
    {
      "cell_type": "code",
      "execution_count": 24,
      "metadata": {
        "colab": {
          "base_uri": "https://localhost:8080/"
        },
        "id": "K85B-I4OaYPX",
        "outputId": "e12664eb-c369-4116-af0a-6f556cca1b8b"
      },
      "outputs": [
        {
          "data": {
            "text/plain": [
              "0    23\n",
              "1    25\n",
              "2    21\n",
              "3    33\n",
              "4    45\n",
              "Name: age, dtype: int64"
            ]
          },
          "execution_count": 24,
          "metadata": {},
          "output_type": "execute_result"
        }
      ],
      "source": [
        "df.iloc[:,2]"
      ]
    },
    {
      "cell_type": "code",
      "execution_count": 25,
      "metadata": {
        "colab": {
          "base_uri": "https://localhost:8080/"
        },
        "id": "JXtdJfVVgyOS",
        "outputId": "93826d28-053e-40fb-ccfc-c6c45060b9e2"
      },
      "outputs": [
        {
          "data": {
            "text/plain": [
              "name        이철수\n",
              "gender        M\n",
              "age          23\n",
              "height    153.5\n",
              "Name: 0, dtype: object"
            ]
          },
          "execution_count": 25,
          "metadata": {},
          "output_type": "execute_result"
        }
      ],
      "source": [
        "df.iloc[0,:]"
      ]
    },
    {
      "cell_type": "markdown",
      "metadata": {
        "id": "OxFRgBOb7Kek"
      },
      "source": [
        "## 고용산재보험 가입 데이터\n",
        "\n",
        "실제 데이터로 실습해봅시다. 사용할 데이터는 근로복지공단에서 제공하는 2020년부터 2021년도까지 7개 광역시에 대한 고용보험과 산재보험에 가입한 음식점 수 현황입니다."
      ]
    },
    {
      "cell_type": "markdown",
      "metadata": {
        "id": "IKGxIJlN87W0"
      },
      "source": [
        "### 데이터 불러오기"
      ]
    },
    {
      "cell_type": "markdown",
      "metadata": {
        "id": "HPEzwwX_8-ab"
      },
      "source": [
        "데이터를 불러오기 위해 `pandas` 패키기가 필요합니다. \\\n",
        "그 안에 `read_csv` 라는 함수를 써서 csv 파일을 불러올 수 있습니다. \\\n",
        "괄호 `()` 안에 파일경로를 붙여주면 해당경로의 csv파일을 가져옵니다."
      ]
    },
    {
      "cell_type": "code",
      "execution_count": 26,
      "metadata": {
        "colab": {
          "base_uri": "https://localhost:8080/",
          "height": 659
        },
        "id": "eNj4uQa_8BXv",
        "outputId": "5a68f67c-d2c5-421d-847c-c5f9b133e54c"
      },
      "outputs": [
        {
          "data": {
            "text/html": [
              "<div>\n",
              "<style scoped>\n",
              "    .dataframe tbody tr th:only-of-type {\n",
              "        vertical-align: middle;\n",
              "    }\n",
              "\n",
              "    .dataframe tbody tr th {\n",
              "        vertical-align: top;\n",
              "    }\n",
              "\n",
              "    .dataframe thead th {\n",
              "        text-align: right;\n",
              "    }\n",
              "</style>\n",
              "<table border=\"1\" class=\"dataframe\">\n",
              "  <thead>\n",
              "    <tr style=\"text-align: right;\">\n",
              "      <th></th>\n",
              "      <th>시도</th>\n",
              "      <th>연도</th>\n",
              "      <th>산재_음식사업장수</th>\n",
              "      <th>고용_음식사업장수</th>\n",
              "    </tr>\n",
              "  </thead>\n",
              "  <tbody>\n",
              "    <tr>\n",
              "      <th>0</th>\n",
              "      <td>광주</td>\n",
              "      <td>2017.0</td>\n",
              "      <td>796</td>\n",
              "      <td>801</td>\n",
              "    </tr>\n",
              "    <tr>\n",
              "      <th>1</th>\n",
              "      <td>광주</td>\n",
              "      <td>2018.0</td>\n",
              "      <td>1121</td>\n",
              "      <td>1136</td>\n",
              "    </tr>\n",
              "    <tr>\n",
              "      <th>2</th>\n",
              "      <td>광주</td>\n",
              "      <td>2019.0</td>\n",
              "      <td>1674</td>\n",
              "      <td>1679</td>\n",
              "    </tr>\n",
              "    <tr>\n",
              "      <th>3</th>\n",
              "      <td>광주</td>\n",
              "      <td>2020.0</td>\n",
              "      <td>1757</td>\n",
              "      <td>1763</td>\n",
              "    </tr>\n",
              "    <tr>\n",
              "      <th>4</th>\n",
              "      <td>광주</td>\n",
              "      <td>2021.0</td>\n",
              "      <td>1727</td>\n",
              "      <td>1734</td>\n",
              "    </tr>\n",
              "    <tr>\n",
              "      <th>5</th>\n",
              "      <td>대구</td>\n",
              "      <td>2017.0</td>\n",
              "      <td>1367</td>\n",
              "      <td>1375</td>\n",
              "    </tr>\n",
              "    <tr>\n",
              "      <th>6</th>\n",
              "      <td>대구</td>\n",
              "      <td>2018.0</td>\n",
              "      <td>1739</td>\n",
              "      <td>1749</td>\n",
              "    </tr>\n",
              "    <tr>\n",
              "      <th>7</th>\n",
              "      <td>대구</td>\n",
              "      <td>2019.0</td>\n",
              "      <td>2523</td>\n",
              "      <td>2531</td>\n",
              "    </tr>\n",
              "    <tr>\n",
              "      <th>8</th>\n",
              "      <td>대구</td>\n",
              "      <td>2020.0</td>\n",
              "      <td>2428</td>\n",
              "      <td>2434</td>\n",
              "    </tr>\n",
              "    <tr>\n",
              "      <th>9</th>\n",
              "      <td>대구</td>\n",
              "      <td>2021.0</td>\n",
              "      <td>2619</td>\n",
              "      <td>2624</td>\n",
              "    </tr>\n",
              "    <tr>\n",
              "      <th>10</th>\n",
              "      <td>대전</td>\n",
              "      <td>2017.0</td>\n",
              "      <td>933</td>\n",
              "      <td>927</td>\n",
              "    </tr>\n",
              "    <tr>\n",
              "      <th>11</th>\n",
              "      <td>대전</td>\n",
              "      <td>2018.0</td>\n",
              "      <td>1093</td>\n",
              "      <td>1131</td>\n",
              "    </tr>\n",
              "    <tr>\n",
              "      <th>12</th>\n",
              "      <td>대전</td>\n",
              "      <td>2019.0</td>\n",
              "      <td>1588</td>\n",
              "      <td>1606</td>\n",
              "    </tr>\n",
              "    <tr>\n",
              "      <th>13</th>\n",
              "      <td>대전</td>\n",
              "      <td>2020.0</td>\n",
              "      <td>1767</td>\n",
              "      <td>1781</td>\n",
              "    </tr>\n",
              "    <tr>\n",
              "      <th>14</th>\n",
              "      <td>대전</td>\n",
              "      <td>2021.0</td>\n",
              "      <td>1634</td>\n",
              "      <td>1652</td>\n",
              "    </tr>\n",
              "    <tr>\n",
              "      <th>15</th>\n",
              "      <td>부산</td>\n",
              "      <td>2017.0</td>\n",
              "      <td>1713</td>\n",
              "      <td>1720</td>\n",
              "    </tr>\n",
              "    <tr>\n",
              "      <th>16</th>\n",
              "      <td>부산</td>\n",
              "      <td>2018.0</td>\n",
              "      <td>2159</td>\n",
              "      <td>2168</td>\n",
              "    </tr>\n",
              "    <tr>\n",
              "      <th>17</th>\n",
              "      <td>부산</td>\n",
              "      <td>2019.0</td>\n",
              "      <td>3205</td>\n",
              "      <td>3215</td>\n",
              "    </tr>\n",
              "    <tr>\n",
              "      <th>18</th>\n",
              "      <td>부산</td>\n",
              "      <td>2020.0</td>\n",
              "      <td>3508</td>\n",
              "      <td>3508</td>\n",
              "    </tr>\n",
              "    <tr>\n",
              "      <th>19</th>\n",
              "      <td>부산</td>\n",
              "      <td>2021.0</td>\n",
              "      <td>3829</td>\n",
              "      <td>3836</td>\n",
              "    </tr>\n",
              "    <tr>\n",
              "      <th>20</th>\n",
              "      <td>서울</td>\n",
              "      <td>2017.0</td>\n",
              "      <td>6069</td>\n",
              "      <td>6117</td>\n",
              "    </tr>\n",
              "    <tr>\n",
              "      <th>21</th>\n",
              "      <td>서울</td>\n",
              "      <td>2018.0</td>\n",
              "      <td>7967</td>\n",
              "      <td>8000</td>\n",
              "    </tr>\n",
              "    <tr>\n",
              "      <th>22</th>\n",
              "      <td>서울</td>\n",
              "      <td>2019.0</td>\n",
              "      <td>10576</td>\n",
              "      <td>10596</td>\n",
              "    </tr>\n",
              "    <tr>\n",
              "      <th>23</th>\n",
              "      <td>서울</td>\n",
              "      <td>2020.0</td>\n",
              "      <td>10612</td>\n",
              "      <td>10631</td>\n",
              "    </tr>\n",
              "    <tr>\n",
              "      <th>24</th>\n",
              "      <td>서울</td>\n",
              "      <td>2021.0</td>\n",
              "      <td>10752</td>\n",
              "      <td>10796</td>\n",
              "    </tr>\n",
              "    <tr>\n",
              "      <th>25</th>\n",
              "      <td>울산</td>\n",
              "      <td>2017.0</td>\n",
              "      <td>541</td>\n",
              "      <td>541</td>\n",
              "    </tr>\n",
              "    <tr>\n",
              "      <th>26</th>\n",
              "      <td>울산</td>\n",
              "      <td>2018.0</td>\n",
              "      <td>651</td>\n",
              "      <td>654</td>\n",
              "    </tr>\n",
              "    <tr>\n",
              "      <th>27</th>\n",
              "      <td>울산</td>\n",
              "      <td>2019.0</td>\n",
              "      <td>996</td>\n",
              "      <td>998</td>\n",
              "    </tr>\n",
              "    <tr>\n",
              "      <th>28</th>\n",
              "      <td>울산</td>\n",
              "      <td>2020.0</td>\n",
              "      <td>1137</td>\n",
              "      <td>1138</td>\n",
              "    </tr>\n",
              "    <tr>\n",
              "      <th>29</th>\n",
              "      <td>울산</td>\n",
              "      <td>2021.0</td>\n",
              "      <td>1046</td>\n",
              "      <td>1048</td>\n",
              "    </tr>\n",
              "    <tr>\n",
              "      <th>30</th>\n",
              "      <td>인천</td>\n",
              "      <td>2017.0</td>\n",
              "      <td>1319</td>\n",
              "      <td>1318</td>\n",
              "    </tr>\n",
              "    <tr>\n",
              "      <th>31</th>\n",
              "      <td>인천</td>\n",
              "      <td>2018.0</td>\n",
              "      <td>1817</td>\n",
              "      <td>1835</td>\n",
              "    </tr>\n",
              "    <tr>\n",
              "      <th>32</th>\n",
              "      <td>인천</td>\n",
              "      <td>2019.0</td>\n",
              "      <td>2718</td>\n",
              "      <td>2731</td>\n",
              "    </tr>\n",
              "    <tr>\n",
              "      <th>33</th>\n",
              "      <td>인천</td>\n",
              "      <td>2020.0</td>\n",
              "      <td>2886</td>\n",
              "      <td>2892</td>\n",
              "    </tr>\n",
              "    <tr>\n",
              "      <th>34</th>\n",
              "      <td>인천</td>\n",
              "      <td>2021.0</td>\n",
              "      <td>2891</td>\n",
              "      <td>2898</td>\n",
              "    </tr>\n",
              "  </tbody>\n",
              "</table>\n",
              "</div>"
            ],
            "text/plain": [
              "    시도      연도  산재_음식사업장수  고용_음식사업장수\n",
              "0   광주  2017.0        796        801\n",
              "1   광주  2018.0       1121       1136\n",
              "2   광주  2019.0       1674       1679\n",
              "3   광주  2020.0       1757       1763\n",
              "4   광주  2021.0       1727       1734\n",
              "5   대구  2017.0       1367       1375\n",
              "6   대구  2018.0       1739       1749\n",
              "7   대구  2019.0       2523       2531\n",
              "8   대구  2020.0       2428       2434\n",
              "9   대구  2021.0       2619       2624\n",
              "10  대전  2017.0        933        927\n",
              "11  대전  2018.0       1093       1131\n",
              "12  대전  2019.0       1588       1606\n",
              "13  대전  2020.0       1767       1781\n",
              "14  대전  2021.0       1634       1652\n",
              "15  부산  2017.0       1713       1720\n",
              "16  부산  2018.0       2159       2168\n",
              "17  부산  2019.0       3205       3215\n",
              "18  부산  2020.0       3508       3508\n",
              "19  부산  2021.0       3829       3836\n",
              "20  서울  2017.0       6069       6117\n",
              "21  서울  2018.0       7967       8000\n",
              "22  서울  2019.0      10576      10596\n",
              "23  서울  2020.0      10612      10631\n",
              "24  서울  2021.0      10752      10796\n",
              "25  울산  2017.0        541        541\n",
              "26  울산  2018.0        651        654\n",
              "27  울산  2019.0        996        998\n",
              "28  울산  2020.0       1137       1138\n",
              "29  울산  2021.0       1046       1048\n",
              "30  인천  2017.0       1319       1318\n",
              "31  인천  2018.0       1817       1835\n",
              "32  인천  2019.0       2718       2731\n",
              "33  인천  2020.0       2886       2892\n",
              "34  인천  2021.0       2891       2898"
            ]
          },
          "execution_count": 26,
          "metadata": {},
          "output_type": "execute_result"
        }
      ],
      "source": [
        "df = pd.read_csv(\"https://uos-bigdata.github.io/lab_data/docs/assets/data_lab_bokji/data_food.csv\")\n",
        "df"
      ]
    },
    {
      "cell_type": "markdown",
      "metadata": {
        "id": "4_NxkQ9u-OLj"
      },
      "source": [
        "### 데이터 파악하기"
      ]
    },
    {
      "cell_type": "markdown",
      "metadata": {
        "id": "XMPHdsmR-YRo"
      },
      "source": [
        "데이터를 파악하기 위해 `info()` 를 넣어주면 해당 데이터 행의 대략적인 정보를 확인 할 수 있습니다."
      ]
    },
    {
      "cell_type": "code",
      "execution_count": 27,
      "metadata": {
        "colab": {
          "base_uri": "https://localhost:8080/"
        },
        "id": "0LXKUQEM_JFN",
        "outputId": "8649d560-c493-475a-dabc-2309714fc2bc"
      },
      "outputs": [
        {
          "name": "stdout",
          "output_type": "stream",
          "text": [
            "<class 'pandas.core.frame.DataFrame'>\n",
            "RangeIndex: 35 entries, 0 to 34\n",
            "Data columns (total 4 columns):\n",
            " #   Column     Non-Null Count  Dtype  \n",
            "---  ------     --------------  -----  \n",
            " 0   시도         35 non-null     object \n",
            " 1   연도         35 non-null     float64\n",
            " 2   산재_음식사업장수  35 non-null     int64  \n",
            " 3   고용_음식사업장수  35 non-null     int64  \n",
            "dtypes: float64(1), int64(2), object(1)\n",
            "memory usage: 1.2+ KB\n"
          ]
        }
      ],
      "source": [
        "df.info()"
      ]
    },
    {
      "cell_type": "markdown",
      "metadata": {
        "id": "f9olafwr_T7e"
      },
      "source": [
        "앞에 배운 것을 이용해 봅니다.\n",
        "\n",
        "열 선택을 해봅니다\n",
        "\n",
        "2021년도 데이터만 불러봅니다.\n",
        "\n",
        "행 선택이기 때문에 `연도`가 `2021`인 행만 `True`값을 반환합니다."
      ]
    },
    {
      "cell_type": "code",
      "execution_count": 28,
      "metadata": {
        "colab": {
          "base_uri": "https://localhost:8080/"
        },
        "id": "jMj9nWRxRMGh",
        "outputId": "db182d13-d307-4f44-9c20-f5120c67c8cb"
      },
      "outputs": [
        {
          "data": {
            "text/plain": [
              "0     False\n",
              "1     False\n",
              "2     False\n",
              "3     False\n",
              "4      True\n",
              "5     False\n",
              "6     False\n",
              "7     False\n",
              "8     False\n",
              "9      True\n",
              "10    False\n",
              "11    False\n",
              "12    False\n",
              "13    False\n",
              "14     True\n",
              "15    False\n",
              "16    False\n",
              "17    False\n",
              "18    False\n",
              "19     True\n",
              "20    False\n",
              "21    False\n",
              "22    False\n",
              "23    False\n",
              "24     True\n",
              "25    False\n",
              "26    False\n",
              "27    False\n",
              "28    False\n",
              "29     True\n",
              "30    False\n",
              "31    False\n",
              "32    False\n",
              "33    False\n",
              "34     True\n",
              "Name: 연도, dtype: bool"
            ]
          },
          "execution_count": 28,
          "metadata": {},
          "output_type": "execute_result"
        }
      ],
      "source": [
        "df['연도']==2021"
      ]
    },
    {
      "cell_type": "markdown",
      "metadata": {
        "id": "Ysuhx34XRsmI"
      },
      "source": [
        "`True`가 반환된 행만 슬라이싱 해줍니다."
      ]
    },
    {
      "cell_type": "code",
      "execution_count": 29,
      "metadata": {
        "colab": {
          "base_uri": "https://localhost:8080/",
          "height": 354
        },
        "id": "drFCpGiZ_QVx",
        "outputId": "f9b5b224-61a9-4ac9-e109-5acbe685f8bf"
      },
      "outputs": [
        {
          "data": {
            "text/html": [
              "<div>\n",
              "<style scoped>\n",
              "    .dataframe tbody tr th:only-of-type {\n",
              "        vertical-align: middle;\n",
              "    }\n",
              "\n",
              "    .dataframe tbody tr th {\n",
              "        vertical-align: top;\n",
              "    }\n",
              "\n",
              "    .dataframe thead th {\n",
              "        text-align: right;\n",
              "    }\n",
              "</style>\n",
              "<table border=\"1\" class=\"dataframe\">\n",
              "  <thead>\n",
              "    <tr style=\"text-align: right;\">\n",
              "      <th></th>\n",
              "      <th>시도</th>\n",
              "      <th>연도</th>\n",
              "      <th>산재_음식사업장수</th>\n",
              "      <th>고용_음식사업장수</th>\n",
              "    </tr>\n",
              "  </thead>\n",
              "  <tbody>\n",
              "    <tr>\n",
              "      <th>4</th>\n",
              "      <td>광주</td>\n",
              "      <td>2021.0</td>\n",
              "      <td>1727</td>\n",
              "      <td>1734</td>\n",
              "    </tr>\n",
              "    <tr>\n",
              "      <th>9</th>\n",
              "      <td>대구</td>\n",
              "      <td>2021.0</td>\n",
              "      <td>2619</td>\n",
              "      <td>2624</td>\n",
              "    </tr>\n",
              "    <tr>\n",
              "      <th>14</th>\n",
              "      <td>대전</td>\n",
              "      <td>2021.0</td>\n",
              "      <td>1634</td>\n",
              "      <td>1652</td>\n",
              "    </tr>\n",
              "    <tr>\n",
              "      <th>19</th>\n",
              "      <td>부산</td>\n",
              "      <td>2021.0</td>\n",
              "      <td>3829</td>\n",
              "      <td>3836</td>\n",
              "    </tr>\n",
              "    <tr>\n",
              "      <th>24</th>\n",
              "      <td>서울</td>\n",
              "      <td>2021.0</td>\n",
              "      <td>10752</td>\n",
              "      <td>10796</td>\n",
              "    </tr>\n",
              "    <tr>\n",
              "      <th>29</th>\n",
              "      <td>울산</td>\n",
              "      <td>2021.0</td>\n",
              "      <td>1046</td>\n",
              "      <td>1048</td>\n",
              "    </tr>\n",
              "    <tr>\n",
              "      <th>34</th>\n",
              "      <td>인천</td>\n",
              "      <td>2021.0</td>\n",
              "      <td>2891</td>\n",
              "      <td>2898</td>\n",
              "    </tr>\n",
              "  </tbody>\n",
              "</table>\n",
              "</div>"
            ],
            "text/plain": [
              "    시도      연도  산재_음식사업장수  고용_음식사업장수\n",
              "4   광주  2021.0       1727       1734\n",
              "9   대구  2021.0       2619       2624\n",
              "14  대전  2021.0       1634       1652\n",
              "19  부산  2021.0       3829       3836\n",
              "24  서울  2021.0      10752      10796\n",
              "29  울산  2021.0       1046       1048\n",
              "34  인천  2021.0       2891       2898"
            ]
          },
          "execution_count": 29,
          "metadata": {},
          "output_type": "execute_result"
        }
      ],
      "source": [
        "df[df['연도']==2021]"
      ]
    },
    {
      "cell_type": "markdown",
      "metadata": {
        "id": "hpILBRuCHyAL"
      },
      "source": [
        "부산만 보고 싶다면 위에 경우와 같습니다."
      ]
    },
    {
      "cell_type": "code",
      "execution_count": 30,
      "metadata": {
        "colab": {
          "base_uri": "https://localhost:8080/",
          "height": 1000
        },
        "id": "RBC2V3MEH34r",
        "outputId": "07686406-0766-47bb-c81a-603bf81b922c"
      },
      "outputs": [
        {
          "data": {
            "text/html": [
              "<div>\n",
              "<style scoped>\n",
              "    .dataframe tbody tr th:only-of-type {\n",
              "        vertical-align: middle;\n",
              "    }\n",
              "\n",
              "    .dataframe tbody tr th {\n",
              "        vertical-align: top;\n",
              "    }\n",
              "\n",
              "    .dataframe thead th {\n",
              "        text-align: right;\n",
              "    }\n",
              "</style>\n",
              "<table border=\"1\" class=\"dataframe\">\n",
              "  <thead>\n",
              "    <tr style=\"text-align: right;\">\n",
              "      <th></th>\n",
              "      <th>시도</th>\n",
              "      <th>연도</th>\n",
              "      <th>산재_음식사업장수</th>\n",
              "      <th>고용_음식사업장수</th>\n",
              "    </tr>\n",
              "  </thead>\n",
              "  <tbody>\n",
              "    <tr>\n",
              "      <th>15</th>\n",
              "      <td>부산</td>\n",
              "      <td>2017.0</td>\n",
              "      <td>1713</td>\n",
              "      <td>1720</td>\n",
              "    </tr>\n",
              "    <tr>\n",
              "      <th>16</th>\n",
              "      <td>부산</td>\n",
              "      <td>2018.0</td>\n",
              "      <td>2159</td>\n",
              "      <td>2168</td>\n",
              "    </tr>\n",
              "    <tr>\n",
              "      <th>17</th>\n",
              "      <td>부산</td>\n",
              "      <td>2019.0</td>\n",
              "      <td>3205</td>\n",
              "      <td>3215</td>\n",
              "    </tr>\n",
              "    <tr>\n",
              "      <th>18</th>\n",
              "      <td>부산</td>\n",
              "      <td>2020.0</td>\n",
              "      <td>3508</td>\n",
              "      <td>3508</td>\n",
              "    </tr>\n",
              "    <tr>\n",
              "      <th>19</th>\n",
              "      <td>부산</td>\n",
              "      <td>2021.0</td>\n",
              "      <td>3829</td>\n",
              "      <td>3836</td>\n",
              "    </tr>\n",
              "  </tbody>\n",
              "</table>\n",
              "</div>"
            ],
            "text/plain": [
              "    시도      연도  산재_음식사업장수  고용_음식사업장수\n",
              "15  부산  2017.0       1713       1720\n",
              "16  부산  2018.0       2159       2168\n",
              "17  부산  2019.0       3205       3215\n",
              "18  부산  2020.0       3508       3508\n",
              "19  부산  2021.0       3829       3836"
            ]
          },
          "execution_count": 30,
          "metadata": {},
          "output_type": "execute_result"
        }
      ],
      "source": [
        "df[df['시도']=='부산']"
      ]
    },
    {
      "cell_type": "markdown",
      "metadata": {
        "id": "lOXQeQtJIBHU"
      },
      "source": [
        "이번에는 행까지 선택해봅니다.\n",
        "\n",
        "고용 평균 근로자 수가 20이 넘는 지역을 파악해보려 합니다"
      ]
    },
    {
      "cell_type": "code",
      "execution_count": 31,
      "metadata": {
        "colab": {
          "base_uri": "https://localhost:8080/"
        },
        "id": "iPk7K3_MSD0N",
        "outputId": "9850b2cf-7aff-4d0f-b8ad-c47896dd9c1a"
      },
      "outputs": [
        {
          "data": {
            "text/plain": [
              "0     False\n",
              "1     False\n",
              "2     False\n",
              "3     False\n",
              "4     False\n",
              "5     False\n",
              "6     False\n",
              "7      True\n",
              "8      True\n",
              "9      True\n",
              "10    False\n",
              "11    False\n",
              "12    False\n",
              "13    False\n",
              "14    False\n",
              "15    False\n",
              "16     True\n",
              "17     True\n",
              "18     True\n",
              "19     True\n",
              "20     True\n",
              "21     True\n",
              "22     True\n",
              "23     True\n",
              "24     True\n",
              "25    False\n",
              "26    False\n",
              "27    False\n",
              "28    False\n",
              "29    False\n",
              "30    False\n",
              "31    False\n",
              "32     True\n",
              "33     True\n",
              "34     True\n",
              "Name: 고용_음식사업장수, dtype: bool"
            ]
          },
          "execution_count": 31,
          "metadata": {},
          "output_type": "execute_result"
        }
      ],
      "source": [
        "df['고용_음식사업장수']>= 2000"
      ]
    },
    {
      "cell_type": "code",
      "execution_count": 32,
      "metadata": {
        "colab": {
          "base_uri": "https://localhost:8080/",
          "height": 306
        },
        "id": "0I1sslLMIyfc",
        "outputId": "171450a1-1ad2-4eed-a666-e13aa6a9dbe0"
      },
      "outputs": [
        {
          "data": {
            "text/html": [
              "<div>\n",
              "<style scoped>\n",
              "    .dataframe tbody tr th:only-of-type {\n",
              "        vertical-align: middle;\n",
              "    }\n",
              "\n",
              "    .dataframe tbody tr th {\n",
              "        vertical-align: top;\n",
              "    }\n",
              "\n",
              "    .dataframe thead th {\n",
              "        text-align: right;\n",
              "    }\n",
              "</style>\n",
              "<table border=\"1\" class=\"dataframe\">\n",
              "  <thead>\n",
              "    <tr style=\"text-align: right;\">\n",
              "      <th></th>\n",
              "      <th>시도</th>\n",
              "      <th>연도</th>\n",
              "      <th>산재_음식사업장수</th>\n",
              "      <th>고용_음식사업장수</th>\n",
              "    </tr>\n",
              "  </thead>\n",
              "  <tbody>\n",
              "    <tr>\n",
              "      <th>7</th>\n",
              "      <td>대구</td>\n",
              "      <td>2019.0</td>\n",
              "      <td>2523</td>\n",
              "      <td>2531</td>\n",
              "    </tr>\n",
              "    <tr>\n",
              "      <th>8</th>\n",
              "      <td>대구</td>\n",
              "      <td>2020.0</td>\n",
              "      <td>2428</td>\n",
              "      <td>2434</td>\n",
              "    </tr>\n",
              "    <tr>\n",
              "      <th>9</th>\n",
              "      <td>대구</td>\n",
              "      <td>2021.0</td>\n",
              "      <td>2619</td>\n",
              "      <td>2624</td>\n",
              "    </tr>\n",
              "    <tr>\n",
              "      <th>16</th>\n",
              "      <td>부산</td>\n",
              "      <td>2018.0</td>\n",
              "      <td>2159</td>\n",
              "      <td>2168</td>\n",
              "    </tr>\n",
              "    <tr>\n",
              "      <th>17</th>\n",
              "      <td>부산</td>\n",
              "      <td>2019.0</td>\n",
              "      <td>3205</td>\n",
              "      <td>3215</td>\n",
              "    </tr>\n",
              "    <tr>\n",
              "      <th>18</th>\n",
              "      <td>부산</td>\n",
              "      <td>2020.0</td>\n",
              "      <td>3508</td>\n",
              "      <td>3508</td>\n",
              "    </tr>\n",
              "    <tr>\n",
              "      <th>19</th>\n",
              "      <td>부산</td>\n",
              "      <td>2021.0</td>\n",
              "      <td>3829</td>\n",
              "      <td>3836</td>\n",
              "    </tr>\n",
              "    <tr>\n",
              "      <th>20</th>\n",
              "      <td>서울</td>\n",
              "      <td>2017.0</td>\n",
              "      <td>6069</td>\n",
              "      <td>6117</td>\n",
              "    </tr>\n",
              "    <tr>\n",
              "      <th>21</th>\n",
              "      <td>서울</td>\n",
              "      <td>2018.0</td>\n",
              "      <td>7967</td>\n",
              "      <td>8000</td>\n",
              "    </tr>\n",
              "    <tr>\n",
              "      <th>22</th>\n",
              "      <td>서울</td>\n",
              "      <td>2019.0</td>\n",
              "      <td>10576</td>\n",
              "      <td>10596</td>\n",
              "    </tr>\n",
              "    <tr>\n",
              "      <th>23</th>\n",
              "      <td>서울</td>\n",
              "      <td>2020.0</td>\n",
              "      <td>10612</td>\n",
              "      <td>10631</td>\n",
              "    </tr>\n",
              "    <tr>\n",
              "      <th>24</th>\n",
              "      <td>서울</td>\n",
              "      <td>2021.0</td>\n",
              "      <td>10752</td>\n",
              "      <td>10796</td>\n",
              "    </tr>\n",
              "    <tr>\n",
              "      <th>32</th>\n",
              "      <td>인천</td>\n",
              "      <td>2019.0</td>\n",
              "      <td>2718</td>\n",
              "      <td>2731</td>\n",
              "    </tr>\n",
              "    <tr>\n",
              "      <th>33</th>\n",
              "      <td>인천</td>\n",
              "      <td>2020.0</td>\n",
              "      <td>2886</td>\n",
              "      <td>2892</td>\n",
              "    </tr>\n",
              "    <tr>\n",
              "      <th>34</th>\n",
              "      <td>인천</td>\n",
              "      <td>2021.0</td>\n",
              "      <td>2891</td>\n",
              "      <td>2898</td>\n",
              "    </tr>\n",
              "  </tbody>\n",
              "</table>\n",
              "</div>"
            ],
            "text/plain": [
              "    시도      연도  산재_음식사업장수  고용_음식사업장수\n",
              "7   대구  2019.0       2523       2531\n",
              "8   대구  2020.0       2428       2434\n",
              "9   대구  2021.0       2619       2624\n",
              "16  부산  2018.0       2159       2168\n",
              "17  부산  2019.0       3205       3215\n",
              "18  부산  2020.0       3508       3508\n",
              "19  부산  2021.0       3829       3836\n",
              "20  서울  2017.0       6069       6117\n",
              "21  서울  2018.0       7967       8000\n",
              "22  서울  2019.0      10576      10596\n",
              "23  서울  2020.0      10612      10631\n",
              "24  서울  2021.0      10752      10796\n",
              "32  인천  2019.0       2718       2731\n",
              "33  인천  2020.0       2886       2892\n",
              "34  인천  2021.0       2891       2898"
            ]
          },
          "execution_count": 32,
          "metadata": {},
          "output_type": "execute_result"
        }
      ],
      "source": [
        "df[df['고용_음식사업장수']>= 2000]"
      ]
    },
    {
      "cell_type": "code",
      "execution_count": 33,
      "metadata": {
        "colab": {
          "base_uri": "https://localhost:8080/"
        },
        "id": "CawzUgQ2Sepr",
        "outputId": "59dd0e31-2e45-4990-802a-15d1b931e32f"
      },
      "outputs": [
        {
          "data": {
            "text/plain": [
              "0     광주\n",
              "1     광주\n",
              "2     광주\n",
              "3     광주\n",
              "4     광주\n",
              "5     대구\n",
              "6     대구\n",
              "7     대구\n",
              "8     대구\n",
              "9     대구\n",
              "10    대전\n",
              "11    대전\n",
              "12    대전\n",
              "13    대전\n",
              "14    대전\n",
              "15    부산\n",
              "16    부산\n",
              "17    부산\n",
              "18    부산\n",
              "19    부산\n",
              "20    서울\n",
              "21    서울\n",
              "22    서울\n",
              "23    서울\n",
              "24    서울\n",
              "25    울산\n",
              "26    울산\n",
              "27    울산\n",
              "28    울산\n",
              "29    울산\n",
              "30    인천\n",
              "31    인천\n",
              "32    인천\n",
              "33    인천\n",
              "34    인천\n",
              "Name: 시도, dtype: object"
            ]
          },
          "execution_count": 33,
          "metadata": {},
          "output_type": "execute_result"
        }
      ],
      "source": [
        "df['시도']"
      ]
    },
    {
      "cell_type": "markdown",
      "metadata": {
        "id": "eYBU3ls7JHdu"
      },
      "source": [
        "위에 실행했던 행과 열을 동시에 선택해 봅니다.\n",
        "\n",
        "고용 평균근로자수가 20이 넘는 도시를 찾아보려 합니다\n",
        "\n",
        "loc : location을 뜻합니다."
      ]
    },
    {
      "cell_type": "markdown",
      "metadata": {
        "id": "EzjrJuUqS_x1"
      },
      "source": [
        "`df['고용_음식사업장수']>= 2000` 이 `True`인 행만 반환 해줄 것이고,\n",
        "\n",
        "그 행들 중에서 `시도`인 열만 보고 싶으니 `시도` 만 반환해줍니다."
      ]
    },
    {
      "cell_type": "code",
      "execution_count": 34,
      "metadata": {
        "colab": {
          "base_uri": "https://localhost:8080/"
        },
        "id": "6xWrHu5MJVnD",
        "outputId": "8fc56fff-e7fb-43f5-b648-0dd9d3d30175"
      },
      "outputs": [
        {
          "data": {
            "text/plain": [
              "7     대구\n",
              "8     대구\n",
              "9     대구\n",
              "16    부산\n",
              "17    부산\n",
              "18    부산\n",
              "19    부산\n",
              "20    서울\n",
              "21    서울\n",
              "22    서울\n",
              "23    서울\n",
              "24    서울\n",
              "32    인천\n",
              "33    인천\n",
              "34    인천\n",
              "Name: 시도, dtype: object"
            ]
          },
          "execution_count": 34,
          "metadata": {},
          "output_type": "execute_result"
        }
      ],
      "source": [
        "df.loc[(df['고용_음식사업장수']>= 2000), '시도']"
      ]
    }
  ],
  "metadata": {
    "colab": {
      "collapsed_sections": [
        "DAi24beGfdJv",
        "IKGxIJlN87W0"
      ],
      "provenance": []
    },
    "kernelspec": {
      "display_name": "Python 3",
      "name": "python3"
    },
    "language_info": {
      "codemirror_mode": {
        "name": "ipython",
        "version": 3
      },
      "file_extension": ".py",
      "mimetype": "text/x-python",
      "name": "python",
      "nbconvert_exporter": "python",
      "pygments_lexer": "ipython3",
      "version": "3.10.12"
    }
  },
  "nbformat": 4,
  "nbformat_minor": 0
}
